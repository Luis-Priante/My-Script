{
  "cells": [
    {
      "cell_type": "code",
      "execution_count": null,
      "metadata": {
        "id": "sS7rBp8mBjdk"
      },
      "outputs": [],
      "source": []
    },
    {
      "cell_type": "markdown",
      "metadata": {
        "id": "l59B7WG28HPu"
      },
      "source": [
        "# Desafio 1\n",
        "## Calculadora inteligente"
      ]
    },
    {
      "cell_type": "code",
      "execution_count": null,
      "metadata": {
        "colab": {
          "background_save": true,
          "base_uri": "https://localhost:8080/"
        },
        "id": "TS0OKuzB8Uy4",
        "outputId": "239a691b-2376-4506-bd54-336164e880f5"
      },
      "outputs": [
        {
          "name": "stdout",
          "output_type": "stream",
          "text": [
            "Olá Luigi\n",
            "Seja bem-vindo à calculadora inteligente\n",
            "\n"
          ]
        }
      ],
      "source": [
        "#Inicialização do software\n",
        "Usuario = input('Digite o nome do usuário: ')\n",
        "print('Olá', Usuario)\n",
        "print('Seja bem-vindo à calculadora inteligente')\n",
        "\n",
        "continuar = 'S'\n",
        "#Loop para continuar digitando 2 núeros\n",
        "\n",
        "while continuar in 'S':\n",
        "  print('')\n",
        "  Num1 = float(input('Digite o primeiro número: '))\n",
        "  Num2 = float(input('Digite o segundo número : '))\n",
        "  print('')\n",
        "  print('A soma dos números é:', Num1 + Num2)\n",
        "  print('A subtração dos números é:', Num1 - Num2)\n",
        "  print('A multiplicação dos números é:', Num1 * Num2)\n",
        "  print('A divisão dos números é:', Num1 / Num2)\n",
        "\n",
        "  continuar = input(\"Deseja continuar? (S para Sim, N para Não): \").strip().upper()\n",
        "\n",
        "else:\n",
        "    print('')\n",
        "    print('Obrigado por usar a calculadora')\n",
        "\n"
      ]
    }
  ],
  "metadata": {
    "colab": {
      "provenance": []
    },
    "kernelspec": {
      "display_name": "Python 3",
      "name": "python3"
    },
    "language_info": {
      "name": "python"
    }
  },
  "nbformat": 4,
  "nbformat_minor": 0
}